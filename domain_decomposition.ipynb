{
 "cells": [
  {
   "cell_type": "code",
   "execution_count": 2,
   "metadata": {},
   "outputs": [],
   "source": [
    "import triangle as tr\n",
    "\n",
    "import numpy as np\n",
    "\n",
    "import scienceplots\n",
    "import matplotlib as mpl\n",
    "import matplotlib.pyplot as plt\n",
    "import matplotlib.tri as mtri\n",
    "import matplotlib.patches as patches\n",
    "from cmap import Colormap\n",
    "\n",
    "plt.style.use([\"science\"])"
   ]
  },
  {
   "cell_type": "code",
   "execution_count": 57,
   "metadata": {},
   "outputs": [
    {
     "data": {
      "image/png": "[encoded data removed]",
      "text/plain": [
       "<Figure size 400x300 with 1 Axes>"
      ]
     },
     "metadata": {},
     "output_type": "display_data"
    }
   ],
   "source": [
    "X1, Y1 = np.meshgrid(np.linspace(-1, 1, 4), np.linspace(-1, 1, 4))\n",
    "dx1 = 2 / (4 - 1)\n",
    "w1 = dx1 * 2.6\n",
    "\n",
    "\n",
    "X2, Y2 = np.meshgrid(np.linspace(-1, 1, 8), np.linspace(-1, 1, 8))\n",
    "dx2 = 2 / (8 - 1)\n",
    "w2 = dx2 * 2.6\n",
    "\n",
    "fig, ax = plt.subplots(figsize=((4/3) * 0.5 * 6, 0.5 * 6))\n",
    "\n",
    "blue = \"#0077BB\"\n",
    "red = \"#CC3311\"\n",
    "\n",
    "for i, (x, y) in enumerate(zip(X1.ravel(), Y1.ravel())):\n",
    "    bl, br = x - w1/2, y - w1/2\n",
    "    rect = patches.Rectangle((bl, br), w1, w1, linewidth=1,\n",
    "                             edgecolor=blue, facecolor=blue, alpha=0.075)\n",
    "    ax.add_patch(rect)\n",
    "\n",
    "for i, (x, y) in enumerate(zip(X2.ravel(), Y2.ravel())):\n",
    "    bl, br = x - w2/2, y - w2/2\n",
    "    rect = patches.Rectangle((bl, br), w2, w2, linewidth=1,\n",
    "                             edgecolor=red, facecolor=red, alpha=0.075)\n",
    "    ax.add_patch(rect)\n",
    "\n",
    "rect = patches.Rectangle((-1 - w1/2, -1 - w1/2), w1, w1, linewidth=1,\n",
    "                            edgecolor=blue, facecolor=\"None\", alpha=1)\n",
    "ax.add_patch(rect)\n",
    "\n",
    "rect = patches.Rectangle((-1 - w2/2, 1 - w2/2), w2, w2, linewidth=1,\n",
    "                            edgecolor=red, facecolor=\"None\", alpha=1)\n",
    "ax.add_patch(rect)\n",
    "\n",
    "rect = patches.Rectangle((-1, -1), 2, 2, linewidth=1, edgecolor=\"k\", facecolor=\"None\")\n",
    "ax.add_patch(rect)\n",
    "\n",
    "ax.set_yticks([-2, -1, 0, 1, 2])\n",
    "ax.set_xticks([-2, -1, 0, 1, 2])\n",
    "ax.set_xlim([-2.2, 2.2])\n",
    "ax.set_ylim([-2.2, 2.2])\n",
    "ax.set_aspect('equal')\n",
    "plt.scatter(X1, Y1, c=blue, marker=\"x\", s=10)\n",
    "plt.scatter(X2, Y2, c=red, marker=\"x\", s=10)\n",
    "fig.savefig(\"figs/dd.pdf\", format=\"pdf\")"
   ]
  },
  {
   "cell_type": "code",
   "execution_count": null,
   "metadata": {},
   "outputs": [],
   "source": [
    "X1, Y1 = np.meshgrid(np.linspace(-1, 1, 4), np.linspace(-1, 1, 4))\n",
    "dx1 = 2 / (4 - 1)\n",
    "w1 = dx1 * 2.6\n",
    "\n",
    "\n",
    "X2, Y2 = np.meshgrid(np.linspace(-1, 1, 8), np.linspace(-1, 1, 8))\n",
    "dx2 = 2 / (8 - 1)\n",
    "w2 = dx2 * 2.6\n",
    "\n",
    "fig, ax = plt.subplots(figsize=(0.4 * 8, 0.3 * 8))\n",
    "\n",
    "blue = \"#0077BB\"\n",
    "red = \"#CC3311\"\n",
    "\n",
    "for i, (x, y) in enumerate(zip(X1.ravel(), Y1.ravel())):\n",
    "    bl, br = x - w1/2, y - w1/2\n",
    "    rect = patches.Rectangle((bl, br), w1, w1, linewidth=1,\n",
    "                             edgecolor=blue, facecolor=blue, alpha=0.05)\n",
    "    ax.add_patch(rect)\n",
    "\n",
    "for i, (x, y) in enumerate(zip(X2.ravel(), Y2.ravel())):\n",
    "    bl, br = x - w2/2, y - w2/2\n",
    "    rect = patches.Rectangle((bl, br), w2, w2, linewidth=1,\n",
    "                             edgecolor=red, facecolor=red, alpha=0.05)\n",
    "    ax.add_patch(rect)\n",
    "\n",
    "rect = patches.Rectangle((-1 - w1/2, -1 - w1/2), w1, w1, linewidth=1,\n",
    "                            edgecolor=blue, facecolor=\"None\", alpha=1)\n",
    "ax.add_patch(rect)\n",
    "\n",
    "rect = patches.Rectangle((-1 - w2/2, 1 - w2/2), w2, w2, linewidth=1,\n",
    "                            edgecolor=red, facecolor=\"None\", alpha=1)\n",
    "ax.add_patch(rect)\n",
    "\n",
    "rect = patches.Rectangle((-1, -1), 2, 2, linewidth=1, edgecolor=\"k\", facecolor=\"None\")\n",
    "ax.add_patch(rect)\n",
    "\n",
    "ax.set_yticks([-1, 0, 1])\n",
    "ax.set_xticks([-1, 0, 1])\n",
    "ax.set_xlim([-2.2, 2.2])\n",
    "ax.set_ylim([-2.2, 2.2])\n",
    "ax.set_aspect('equal')\n",
    "plt.scatter(X1, Y1, c=blue, marker=\"x\", s=10)\n",
    "plt.scatter(X2, Y2, c=red, marker=\"x\", s=10)"
   ]
  }
 ],
 "metadata": {
  "kernelspec": {
   "display_name": "Python 3",
   "language": "python",
   "name": "python3"
  },
  "language_info": {
   "codemirror_mode": {
    "name": "ipython",
    "version": 3
   },
   "file_extension": ".py",
   "mimetype": "text/x-python",
   "name": "python",
   "nbconvert_exporter": "python",
   "pygments_lexer": "ipython3",
   "version": "3.12.5"
  }
 },
 "nbformat": 4,
 "nbformat_minor": 2
}
